{
 "cells": [
  {
   "cell_type": "markdown",
   "id": "d3f57b38",
   "metadata": {},
   "source": [
    "## Setup"
   ]
  },
  {
   "cell_type": "code",
   "execution_count": 20,
   "id": "ae22308d",
   "metadata": {},
   "outputs": [],
   "source": [
    "import os\n",
    "import json\n",
    "from fatsecret import Fatsecret\n",
    "from dotenv import load_dotenv\n",
    "load_dotenv()\n",
    "\n",
    "FS_KEY = os.getenv('FATSECRET_KEY')\n",
    "FS_SECRET = os.getenv('FATSECRET_SECRET')\n"
   ]
  },
  {
   "cell_type": "markdown",
   "id": "bbbb6fb9",
   "metadata": {},
   "source": [
    "## Client start"
   ]
  },
  {
   "cell_type": "code",
   "execution_count": 21,
   "id": "ffbab007",
   "metadata": {},
   "outputs": [],
   "source": [
    "fs = Fatsecret(FS_KEY, FS_SECRET)\n",
    "    "
   ]
  },
  {
   "cell_type": "markdown",
   "id": "874ed6f5",
   "metadata": {},
   "source": [
    "## Search"
   ]
  },
  {
   "cell_type": "code",
   "execution_count": 22,
   "id": "7f2adffe",
   "metadata": {},
   "outputs": [],
   "source": [
    "foods = fs.foods_search(\"Corn\")"
   ]
  },
  {
   "cell_type": "markdown",
   "id": "14b045d7",
   "metadata": {},
   "source": [
    "## Prints to show what is contained\n"
   ]
  },
  {
   "cell_type": "code",
   "execution_count": 23,
   "id": "ab670e96",
   "metadata": {
    "scrolled": true
   },
   "outputs": [
    {
     "name": "stdout",
     "output_type": "stream",
     "text": [
      "[\n",
      "  {\n",
      "    \"food_description\": \"Per 100g - Calories: 86kcal | Fat: 1.18g | Carbs: 19.02g | Protein: 3.22g\",\n",
      "    \"food_id\": \"6243\",\n",
      "    \"food_name\": \"Corn\",\n",
      "    \"food_type\": \"Generic\",\n",
      "    \"food_url\": \"https://www.fatsecret.com/calories-nutrition/generic/corn-raw\"\n",
      "  },\n",
      "  {\n",
      "    \"brand_name\": \"Green Giant\",\n",
      "    \"food_description\": \"Per 1/2 cup - Calories: 60kcal | Fat: 0.50g | Carbs: 11.00g | Protein: 2.00g\",\n",
      "    \"food_id\": \"93796\",\n",
      "    \"food_name\": \"Whole Kernel Sweet Corn\",\n",
      "    \"food_type\": \"Brand\",\n",
      "    \"food_url\": \"https://www.fatsecret.com/calories-nutrition/green-giant/whole-kernel-sweet-corn\"\n",
      "  },\n",
      "  {\n",
      "    \"brand_name\": \"Del Monte\",\n",
      "    \"food_description\": \"Per 1/2 cup - Calories: 70kcal | Fat: 1.00g | Carbs: 13.00g | Protein: 1.00g\",\n",
      "    \"food_id\": \"5222507\",\n",
      "    \"food_name\": \"Canned Corn\",\n",
      "    \"food_type\": \"Brand\",\n",
      "    \"food_url\": \"https://www.fatsecret.com/calories-nutrition/del-monte/canned-corn\"\n",
      "  },\n",
      "  {\n",
      "    \"food_description\": \"Per 100g - Calories: 81kcal | Fat: 1.00g | Carbs: 18.59g | Protein: 2.62g\",\n",
      "    \"food_id\": \"36355\",\n",
      "    \"food_name\": \"Yellow Sweet Corn (Whole Kernel, Drained Solids, Canned)\",\n",
      "    \"food_type\": \"Generic\",\n",
      "    \"food_url\": \"https://www.fatsecret.com/calories-nutrition/usda/yellow-sweet-corn-(whole-kernel-drained-solids-canned)\"\n",
      "  },\n",
      "  {\n",
      "    \"brand_name\": \"Wal-Mart\",\n",
      "    \"food_description\": \"Per 2/3 cup - Calories: 90kcal | Fat: 1.00g | Carbs: 19.00g | Protein: 2.00g\",\n",
      "    \"food_id\": \"84840\",\n",
      "    \"food_name\": \"Frozen Whole Kernel Golden Corn\",\n",
      "    \"food_type\": \"Brand\",\n",
      "    \"food_url\": \"https://www.fatsecret.com/calories-nutrition/wal-mart/frozen-whole-kernel-golden-corn\"\n",
      "  },\n",
      "  {\n",
      "    \"brand_name\": \"TOPS Markets\",\n",
      "    \"food_description\": \"Per 1 ear - Calories: 90kcal | Fat: 1.00g | Carbs: 19.00g | Protein: 3.00g\",\n",
      "    \"food_id\": \"88680\",\n",
      "    \"food_name\": \"Corn on the Cob\",\n",
      "    \"food_type\": \"Brand\",\n",
      "    \"food_url\": \"https://www.fatsecret.com/calories-nutrition/tops-markets/corn-on-the-cob\"\n",
      "  },\n",
      "  {\n",
      "    \"food_description\": \"Per 100g - Calories: 93kcal | Fat: 0.74g | Carbs: 22.33g | Protein: 3.11g\",\n",
      "    \"food_id\": \"36361\",\n",
      "    \"food_name\": \"Yellow Sweet Corn (Kernels On Cob, Without Salt, Frozen, Drained, Cooked, Boiled)\",\n",
      "    \"food_type\": \"Generic\",\n",
      "    \"food_url\": \"https://www.fatsecret.com/calories-nutrition/usda/yellow-sweet-corn-(kernels-on-cob-without-salt-frozen-drained-cooked-boiled)\"\n",
      "  },\n",
      "  {\n",
      "    \"food_description\": \"Per 100g - Calories: 79kcal | Fat: 0.50g | Carbs: 19.44g | Protein: 2.41g\",\n",
      "    \"food_id\": \"36357\",\n",
      "    \"food_name\": \"Yellow Sweet Corn (Vacuum Pack, Canned)\",\n",
      "    \"food_type\": \"Generic\",\n",
      "    \"food_url\": \"https://www.fatsecret.com/calories-nutrition/usda/yellow-sweet-corn-(vacuum-pack-canned)\"\n",
      "  },\n",
      "  {\n",
      "    \"food_description\": \"Per 100g - Calories: 86kcal | Fat: 1.18g | Carbs: 19.02g | Protein: 3.22g\",\n",
      "    \"food_id\": \"36352\",\n",
      "    \"food_name\": \"Yellow Sweet Corn\",\n",
      "    \"food_type\": \"Generic\",\n",
      "    \"food_url\": \"https://www.fatsecret.com/calories-nutrition/usda/yellow-sweet-corn\"\n",
      "  },\n",
      "  {\n",
      "    \"food_description\": \"Per 170g - Calories: 210kcal | Fat: 5.80g | Carbs: 41.28g | Protein: 5.45g\",\n",
      "    \"food_id\": \"6440\",\n",
      "    \"food_name\": \"Cooked White Corn\",\n",
      "    \"food_type\": \"Generic\",\n",
      "    \"food_url\": \"https://www.fatsecret.com/calories-nutrition/generic/corn-white-cooked-ns-as-to-fat-added-in-cooking\"\n",
      "  },\n",
      "  {\n",
      "    \"food_description\": \"Per 100g - Calories: 79kcal | Fat: 0.50g | Carbs: 19.44g | Protein: 2.41g\",\n",
      "    \"food_id\": \"36801\",\n",
      "    \"food_name\": \"Yellow Sweet Corn (No Salt Added, Vacuum Packed, Canned)\",\n",
      "    \"food_type\": \"Generic\",\n",
      "    \"food_url\": \"https://www.fatsecret.com/calories-nutrition/usda/yellow-sweet-corn-(no-salt-added-vacuum-packed-canned)\"\n",
      "  },\n",
      "  {\n",
      "    \"food_description\": \"Per 170g - Calories: 166kcal | Fat: 4.80g | Carbs: 31.74g | Protein: 4.19g\",\n",
      "    \"food_id\": \"6510\",\n",
      "    \"food_name\": \"Cooked Corn (from Frozen)\",\n",
      "    \"food_type\": \"Generic\",\n",
      "    \"food_url\": \"https://www.fatsecret.com/calories-nutrition/generic/corn-cooked-from-frozen-ns-as-to-fat-added-in-cooking\"\n",
      "  },\n",
      "  {\n",
      "    \"food_description\": \"Per 164g - Calories: 133kcal | Fat: 1.64g | Carbs: 30.49g | Protein: 4.30g\",\n",
      "    \"food_id\": \"690944\",\n",
      "    \"food_name\": \"Baby Corn\",\n",
      "    \"food_type\": \"Generic\",\n",
      "    \"food_url\": \"https://www.fatsecret.com/calories-nutrition/generic/corn-baby\"\n",
      "  },\n",
      "  {\n",
      "    \"brand_name\": \"Dynasty\",\n",
      "    \"food_description\": \"Per 3 oz - Calories: 20kcal | Fat: 0.00g | Carbs: 3.00g | Protein: 1.00g\",\n",
      "    \"food_id\": \"269496\",\n",
      "    \"food_name\": \"Baby Cut Corn\",\n",
      "    \"food_type\": \"Brand\",\n",
      "    \"food_url\": \"https://www.fatsecret.com/calories-nutrition/dynasty/baby-cut-corn\"\n",
      "  },\n",
      "  {\n",
      "    \"food_description\": \"Per 170g - Calories: 210kcal | Fat: 5.80g | Carbs: 41.28g | Protein: 5.45g\",\n",
      "    \"food_id\": \"6566\",\n",
      "    \"food_name\": \"Cooked Corn\",\n",
      "    \"food_type\": \"Generic\",\n",
      "    \"food_url\": \"https://www.fatsecret.com/calories-nutrition/generic/corn-cooked-ns-as-to-color-ns-as-to-fat-added-in-cooking\"\n",
      "  },\n",
      "  {\n",
      "    \"food_description\": \"Per 100g - Calories: 88kcal | Fat: 0.77g | Carbs: 20.80g | Protein: 3.02g\",\n",
      "    \"food_id\": \"36358\",\n",
      "    \"food_name\": \"Yellow Sweet Corn (Kernels Cut Off Cob, Frozen)\",\n",
      "    \"food_type\": \"Generic\",\n",
      "    \"food_url\": \"https://www.fatsecret.com/calories-nutrition/usda/yellow-sweet-corn-(kernels-cut-off-cob-frozen)\"\n",
      "  },\n",
      "  {\n",
      "    \"food_description\": \"Per 100g - Calories: 72kcal | Fat: 0.42g | Carbs: 18.13g | Protein: 1.74g\",\n",
      "    \"food_id\": \"6542\",\n",
      "    \"food_name\": \"Cream Style Corn\",\n",
      "    \"food_type\": \"Generic\",\n",
      "    \"food_url\": \"https://www.fatsecret.com/calories-nutrition/generic/corn-ns-as-to-color-cream-style\"\n",
      "  },\n",
      "  {\n",
      "    \"brand_name\": \"Birds Eye\",\n",
      "    \"food_description\": \"Per 2/3 cup - Calories: 100kcal | Fat: 1.00g | Carbs: 21.00g | Protein: 3.00g\",\n",
      "    \"food_id\": \"43905\",\n",
      "    \"food_name\": \"Super Sweet Kernel Corn\",\n",
      "    \"food_type\": \"Brand\",\n",
      "    \"food_url\": \"https://www.fatsecret.com/calories-nutrition/birds-eye/super-sweet-kernel-corn\"\n",
      "  },\n",
      "  {\n",
      "    \"food_description\": \"Per 399g - Calories: 527kcal | Fat: 26.11g | Carbs: 75.45g | Protein: 9.66g\",\n",
      "    \"food_id\": \"6415\",\n",
      "    \"food_name\": \"Cooked Dried Corn\",\n",
      "    \"food_type\": \"Generic\",\n",
      "    \"food_url\": \"https://www.fatsecret.com/calories-nutrition/generic/corn-dried-cooked\"\n",
      "  },\n",
      "  {\n",
      "    \"food_description\": \"Per 100g - Calories: 81kcal | Fat: 1.00g | Carbs: 18.59g | Protein: 2.62g\",\n",
      "    \"food_id\": \"36928\",\n",
      "    \"food_name\": \"White Sweet Corn (Whole Kernel, Drained Solids, Canned)\",\n",
      "    \"food_type\": \"Generic\",\n",
      "    \"food_url\": \"https://www.fatsecret.com/calories-nutrition/usda/white-sweet-corn-(whole-kernel-drained-solids-canned)\"\n",
      "  }\n",
      "]\n"
     ]
    }
   ],
   "source": [
    "print(json.dumps(foods, indent=2))"
   ]
  },
  {
   "cell_type": "code",
   "execution_count": 24,
   "id": "4bb100f3",
   "metadata": {
    "scrolled": true
   },
   "outputs": [
    {
     "name": "stdout",
     "output_type": "stream",
     "text": [
      "Per 100g - Calories: 86kcal | Fat: 1.18g | Carbs: 19.02g | Protein: 3.22g\n"
     ]
    }
   ],
   "source": [
    "print(foods[0][\"food_description\"])"
   ]
  },
  {
   "cell_type": "code",
   "execution_count": null,
   "id": "8d9ad8a8",
   "metadata": {},
   "outputs": [],
   "source": []
  }
 ],
 "metadata": {
  "kernelspec": {
   "display_name": "Python 3 (ipykernel)",
   "language": "python",
   "name": "python3"
  },
  "language_info": {
   "codemirror_mode": {
    "name": "ipython",
    "version": 3
   },
   "file_extension": ".py",
   "mimetype": "text/x-python",
   "name": "python",
   "nbconvert_exporter": "python",
   "pygments_lexer": "ipython3",
   "version": "3.9.0"
  }
 },
 "nbformat": 4,
 "nbformat_minor": 5
}
